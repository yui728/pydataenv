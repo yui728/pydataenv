{
 "cells": [
  {
   "cell_type": "markdown",
   "metadata": {},
   "source": [
    "# 4.4 scikit-learn\n",
    "* 機械学習を含むデータマイニングやデータ解析のライブラリ\n",
    "* Pythonで深層学習以外の機械学習を実行するツールキットとして、デファクトスタンダードとなっている"
   ]
  },
  {
   "cell_type": "markdown",
   "metadata": {},
   "source": [
    "## 4.4.1 前処理"
   ]
  },
  {
   "cell_type": "markdown",
   "metadata": {},
   "source": [
    "### 取り上げる内容\n",
    "* 欠損値への対応\n",
    "* カテゴリ変数のエンコーディング\n",
    "* 特徴量の正規化"
   ]
  },
  {
   "cell_type": "markdown",
   "metadata": {},
   "source": [
    "### 欠損値への対応\n",
    "* 欠損値：データの収集において、測定系や通信系の不備により生じる値の欠損\n",
    "* 欠損値への対処方法は大きくわけて以下の2つがある\n",
    "  1. 欠損値を除去する\n",
    "  1. 欠損値を補完する"
   ]
  },
  {
   "cell_type": "markdown",
   "metadata": {},
   "source": [
    "サンプルのDataFrameを作成 "
   ]
  },
  {
   "cell_type": "code",
   "execution_count": 1,
   "metadata": {},
   "outputs": [
    {
     "data": {
      "text/html": [
       "<div>\n",
       "<style scoped>\n",
       "    .dataframe tbody tr th:only-of-type {\n",
       "        vertical-align: middle;\n",
       "    }\n",
       "\n",
       "    .dataframe tbody tr th {\n",
       "        vertical-align: top;\n",
       "    }\n",
       "\n",
       "    .dataframe thead th {\n",
       "        text-align: right;\n",
       "    }\n",
       "</style>\n",
       "<table border=\"1\" class=\"dataframe\">\n",
       "  <thead>\n",
       "    <tr style=\"text-align: right;\">\n",
       "      <th></th>\n",
       "      <th>A</th>\n",
       "      <th>B</th>\n",
       "      <th>C</th>\n",
       "    </tr>\n",
       "  </thead>\n",
       "  <tbody>\n",
       "    <tr>\n",
       "      <th>0</th>\n",
       "      <td>1.0</td>\n",
       "      <td>6.0</td>\n",
       "      <td>11</td>\n",
       "    </tr>\n",
       "    <tr>\n",
       "      <th>1</th>\n",
       "      <td>NaN</td>\n",
       "      <td>7.0</td>\n",
       "      <td>12</td>\n",
       "    </tr>\n",
       "    <tr>\n",
       "      <th>2</th>\n",
       "      <td>3.0</td>\n",
       "      <td>8.0</td>\n",
       "      <td>13</td>\n",
       "    </tr>\n",
       "    <tr>\n",
       "      <th>3</th>\n",
       "      <td>4.0</td>\n",
       "      <td>NaN</td>\n",
       "      <td>14</td>\n",
       "    </tr>\n",
       "    <tr>\n",
       "      <th>4</th>\n",
       "      <td>5.0</td>\n",
       "      <td>10.0</td>\n",
       "      <td>15</td>\n",
       "    </tr>\n",
       "  </tbody>\n",
       "</table>\n",
       "</div>"
      ],
      "text/plain": [
       "     A     B   C\n",
       "0  1.0   6.0  11\n",
       "1  NaN   7.0  12\n",
       "2  3.0   8.0  13\n",
       "3  4.0   NaN  14\n",
       "4  5.0  10.0  15"
      ]
     },
     "execution_count": 1,
     "metadata": {},
     "output_type": "execute_result"
    }
   ],
   "source": [
    "import numpy as np\n",
    "import pandas as pd\n",
    "\n",
    "# サンプルのデータセットを作成\n",
    "df = pd.DataFrame({\n",
    "    'A': [1, np.nan, 3, 4, 5],\n",
    "    'B': [6, 7, 8, np.nan, 10],\n",
    "    'C': [11, 12, 13, 14, 15]\n",
    "})\n",
    "\n",
    "df"
   ]
  },
  {
   "cell_type": "markdown",
   "metadata": {},
   "source": [
    "#### 欠損値の除去"
   ]
  },
  {
   "cell_type": "markdown",
   "metadata": {},
   "source": [
    "#### pandas.DataFrame.isnull()\n",
    "* DataFrameの各要素が欠損値かどうかをBoolean型で返すDataFrameを取得する"
   ]
  },
  {
   "cell_type": "markdown",
   "metadata": {},
   "source": [
    "DataFrameの各要素が欠損値かどうかを出力する"
   ]
  },
  {
   "cell_type": "code",
   "execution_count": 2,
   "metadata": {},
   "outputs": [
    {
     "data": {
      "text/html": [
       "<div>\n",
       "<style scoped>\n",
       "    .dataframe tbody tr th:only-of-type {\n",
       "        vertical-align: middle;\n",
       "    }\n",
       "\n",
       "    .dataframe tbody tr th {\n",
       "        vertical-align: top;\n",
       "    }\n",
       "\n",
       "    .dataframe thead th {\n",
       "        text-align: right;\n",
       "    }\n",
       "</style>\n",
       "<table border=\"1\" class=\"dataframe\">\n",
       "  <thead>\n",
       "    <tr style=\"text-align: right;\">\n",
       "      <th></th>\n",
       "      <th>A</th>\n",
       "      <th>B</th>\n",
       "      <th>C</th>\n",
       "    </tr>\n",
       "  </thead>\n",
       "  <tbody>\n",
       "    <tr>\n",
       "      <th>0</th>\n",
       "      <td>False</td>\n",
       "      <td>False</td>\n",
       "      <td>False</td>\n",
       "    </tr>\n",
       "    <tr>\n",
       "      <th>1</th>\n",
       "      <td>True</td>\n",
       "      <td>False</td>\n",
       "      <td>False</td>\n",
       "    </tr>\n",
       "    <tr>\n",
       "      <th>2</th>\n",
       "      <td>False</td>\n",
       "      <td>False</td>\n",
       "      <td>False</td>\n",
       "    </tr>\n",
       "    <tr>\n",
       "      <th>3</th>\n",
       "      <td>False</td>\n",
       "      <td>True</td>\n",
       "      <td>False</td>\n",
       "    </tr>\n",
       "    <tr>\n",
       "      <th>4</th>\n",
       "      <td>False</td>\n",
       "      <td>False</td>\n",
       "      <td>False</td>\n",
       "    </tr>\n",
       "  </tbody>\n",
       "</table>\n",
       "</div>"
      ],
      "text/plain": [
       "       A      B      C\n",
       "0  False  False  False\n",
       "1   True  False  False\n",
       "2  False  False  False\n",
       "3  False   True  False\n",
       "4  False  False  False"
      ]
     },
     "execution_count": 2,
     "metadata": {},
     "output_type": "execute_result"
    }
   ],
   "source": [
    "df.isnull()"
   ]
  },
  {
   "cell_type": "markdown",
   "metadata": {},
   "source": [
    "*欠損値の除去には、DataFrameのdropnaメソッドを使用する*"
   ]
  },
  {
   "cell_type": "markdown",
   "metadata": {},
   "source": [
    "#### 欠損値の補完"
   ]
  },
  {
   "cell_type": "markdown",
   "metadata": {},
   "source": [
    "#### sklearn.preprocessing.Imputerクラス\n",
    "* 欠損値の補完を行うためのクラス"
   ]
  },
  {
   "cell_type": "markdown",
   "metadata": {},
   "source": [
    "scikit-learnのImputerクラスを使用した欠損値の補完"
   ]
  },
  {
   "cell_type": "code",
   "execution_count": 3,
   "metadata": {},
   "outputs": [
    {
     "name": "stderr",
     "output_type": "stream",
     "text": [
      "f:\\data\\study\\python\\pydataenv\\lib\\site-packages\\sklearn\\utils\\deprecation.py:58: DeprecationWarning: Class Imputer is deprecated; Imputer was deprecated in version 0.20 and will be removed in 0.22. Import impute.SimpleImputer from sklearn instead.\n",
      "  warnings.warn(msg, category=DeprecationWarning)\n"
     ]
    },
    {
     "data": {
      "text/plain": [
       "array([[ 1.  ,  6.  , 11.  ],\n",
       "       [ 3.25,  7.  , 12.  ],\n",
       "       [ 3.  ,  8.  , 13.  ],\n",
       "       [ 4.  ,  7.75, 14.  ],\n",
       "       [ 5.  , 10.  , 15.  ]])"
      ]
     },
     "execution_count": 3,
     "metadata": {},
     "output_type": "execute_result"
    }
   ],
   "source": [
    "from sklearn.preprocessing import Imputer\n",
    "# 平均値で欠損値を補完するためのインスタンスを作成する\n",
    "imp = Imputer(strategy = 'mean', axis = 0)\n",
    "# 欠損値を補完\n",
    "imp.fit(df)\n",
    "imp.transform(df)"
   ]
  },
  {
   "cell_type": "markdown",
   "metadata": {},
   "source": [
    "#### sklearn.impute.SimpleImputerクラス\n",
    "* 欠損値の補完を行うためのクラス（ver 0.20以降）"
   ]
  },
  {
   "cell_type": "markdown",
   "metadata": {},
   "source": [
    "scikit-learnのimpute.SimpleImputerクラスを使用した欠損値の補完"
   ]
  },
  {
   "cell_type": "code",
   "execution_count": 4,
   "metadata": {},
   "outputs": [
    {
     "data": {
      "text/plain": [
       "array([[ 1.  ,  6.  , 11.  ],\n",
       "       [ 3.25,  7.  , 12.  ],\n",
       "       [ 3.  ,  8.  , 13.  ],\n",
       "       [ 4.  ,  7.75, 14.  ],\n",
       "       [ 5.  , 10.  , 15.  ]])"
      ]
     },
     "execution_count": 4,
     "metadata": {},
     "output_type": "execute_result"
    }
   ],
   "source": [
    "from sklearn.impute import SimpleImputer\n",
    "\n",
    "# 平均値で欠損値を補完するためのインスタンスを作成する\n",
    "imp = SimpleImputer(strategy = 'mean')\n",
    "# 欠損値を補完\n",
    "imp.fit(df)\n",
    "imp.transform(df)"
   ]
  },
  {
   "cell_type": "markdown",
   "metadata": {},
   "source": [
    "#### Imputerクラス/SimpleImputerクラスの引数\n",
    "* strategy引数\n",
    "  * 値で設定した文字列を欠損値を補完する方法として設定する\n",
    "  * mean：平均値\n",
    "  * median：中央値\n",
    "  * most_frequent：最頻値\n",
    "* axis（Imputerクラスのみ）\n",
    "  * 値で指定した数値を欠損値を補完する値を計算する時に使用する軸として設定する\n",
    "  * 0：列\n",
    "  * 1：行"
   ]
  },
  {
   "cell_type": "markdown",
   "metadata": {},
   "source": [
    "### カテゴリ変数のエンコーディング\n",
    "* カテゴリ変数\n",
    "  * いくつかの限られた値（例：血液型、職業など）において、どれに該当しているのかを示す変数"
   ]
  },
  {
   "cell_type": "markdown",
   "metadata": {},
   "source": [
    "DataFrameを作成する"
   ]
  },
  {
   "cell_type": "code",
   "execution_count": 5,
   "metadata": {},
   "outputs": [
    {
     "data": {
      "text/html": [
       "<div>\n",
       "<style scoped>\n",
       "    .dataframe tbody tr th:only-of-type {\n",
       "        vertical-align: middle;\n",
       "    }\n",
       "\n",
       "    .dataframe tbody tr th {\n",
       "        vertical-align: top;\n",
       "    }\n",
       "\n",
       "    .dataframe thead th {\n",
       "        text-align: right;\n",
       "    }\n",
       "</style>\n",
       "<table border=\"1\" class=\"dataframe\">\n",
       "  <thead>\n",
       "    <tr style=\"text-align: right;\">\n",
       "      <th></th>\n",
       "      <th>A</th>\n",
       "      <th>B</th>\n",
       "    </tr>\n",
       "  </thead>\n",
       "  <tbody>\n",
       "    <tr>\n",
       "      <th>0</th>\n",
       "      <td>1</td>\n",
       "      <td>a</td>\n",
       "    </tr>\n",
       "    <tr>\n",
       "      <th>1</th>\n",
       "      <td>2</td>\n",
       "      <td>b</td>\n",
       "    </tr>\n",
       "    <tr>\n",
       "      <th>2</th>\n",
       "      <td>3</td>\n",
       "      <td>a</td>\n",
       "    </tr>\n",
       "    <tr>\n",
       "      <th>3</th>\n",
       "      <td>4</td>\n",
       "      <td>b</td>\n",
       "    </tr>\n",
       "    <tr>\n",
       "      <th>4</th>\n",
       "      <td>5</td>\n",
       "      <td>c</td>\n",
       "    </tr>\n",
       "  </tbody>\n",
       "</table>\n",
       "</div>"
      ],
      "text/plain": [
       "   A  B\n",
       "0  1  a\n",
       "1  2  b\n",
       "2  3  a\n",
       "3  4  b\n",
       "4  5  c"
      ]
     },
     "execution_count": 5,
     "metadata": {},
     "output_type": "execute_result"
    }
   ],
   "source": [
    "import pandas as pd\n",
    "\n",
    "df = pd.DataFrame({\n",
    "    'A':[1, 2, 3, 4, 5],\n",
    "    'B':['a', 'b', 'a', 'b', 'c']\n",
    "})\n",
    "df"
   ]
  },
  {
   "cell_type": "markdown",
   "metadata": {},
   "source": [
    "**列B：a,b,cの値のいずれかの値をとる→カテゴリ変数**"
   ]
  },
  {
   "cell_type": "markdown",
   "metadata": {},
   "source": [
    "カテゴリ変数をコンピュータが処理しやすいように変更する方法\n",
    "1. [カテゴリ変数のエンコーディング](#カテゴリ変数のエンコーディング)\n",
    "1. [One-hotエンコーディング](#One-hotエンコーディング)"
   ]
  },
  {
   "cell_type": "markdown",
   "metadata": {},
   "source": [
    "#### カテゴリ変数のエンコーディング\n",
    "* カテゴリ変数を数値（整数）に変換する\n",
    "  * 例：a → 0, b → 1, c → 2"
   ]
  },
  {
   "cell_type": "markdown",
   "metadata": {},
   "source": [
    "#### sklearn.preprocessing.LabelEncoderクラス\n",
    "* カテゴリ変数のエンコーディングを行うためのクラス\n",
    "* classes_変数\n",
    "  * ラベルエンコーダで変更された元の値を格納"
   ]
  },
  {
   "cell_type": "markdown",
   "metadata": {},
   "source": [
    "scikit-learnのLabelEncoderクラスを使用して、カテゴリ変数のエンコーディグを行う"
   ]
  },
  {
   "cell_type": "code",
   "execution_count": 6,
   "metadata": {},
   "outputs": [
    {
     "data": {
      "text/plain": [
       "array([0, 1, 0, 1, 2])"
      ]
     },
     "execution_count": 6,
     "metadata": {},
     "output_type": "execute_result"
    }
   ],
   "source": [
    "from sklearn.preprocessing import LabelEncoder\n",
    "# ラベルエンコーダのインスタンスを生成\n",
    "le = LabelEncoder()\n",
    "\n",
    "# ラベルのエンコーディング\n",
    "le.fit(df['B'])\n",
    "le.transform(df['B'])"
   ]
  },
  {
   "cell_type": "markdown",
   "metadata": {},
   "source": [
    "元の値を確認する"
   ]
  },
  {
   "cell_type": "code",
   "execution_count": 7,
   "metadata": {},
   "outputs": [
    {
     "data": {
      "text/plain": [
       "array(['a', 'b', 'c'], dtype=object)"
      ]
     },
     "execution_count": 7,
     "metadata": {},
     "output_type": "execute_result"
    }
   ],
   "source": [
    "# 元の値を確認\n",
    "le.classes_"
   ]
  },
  {
   "cell_type": "markdown",
   "metadata": {},
   "source": [
    "#### One-hotエンコーディング\n",
    "* カテゴリ変数に対して行う符号化の処理\n",
    "* テーブル形式のデータのカテゴリ変数の列について、以下の処理を行う\n",
    "  * 取りうる値の分だけ列を増やす\n",
    "  * 各行の該当する値の列にのみ1が、それ以外の列には0が再入されるように変換\n",
    "* ダミー変数化とも呼ぶ\n",
    "  * 生成された列の変数：ダミー変数"
   ]
  },
  {
   "cell_type": "markdown",
   "metadata": {},
   "source": [
    "#### sklearn.presrocessing.OneHotEncoderクラス\n",
    "* scikit-learnでOne-hotエンコーディングを行うためのクラス"
   ]
  },
  {
   "cell_type": "markdown",
   "metadata": {},
   "source": [
    "OneHotEncoderクラスを使用して、One-hotエンコーディングを行う"
   ]
  },
  {
   "cell_type": "code",
   "execution_count": 8,
   "metadata": {},
   "outputs": [
    {
     "name": "stderr",
     "output_type": "stream",
     "text": [
      "f:\\data\\study\\python\\pydataenv\\lib\\site-packages\\sklearn\\preprocessing\\_encoders.py:368: FutureWarning: The handling of integer data will change in version 0.22. Currently, the categories are determined based on the range [0, max(values)], while in the future they will be determined based on the unique values.\n",
      "If you want the future behaviour and silence this warning, you can specify \"categories='auto'\".\n",
      "In case you used a LabelEncoder before this OneHotEncoder to convert the categories to integers, then you can now use the OneHotEncoder directly.\n",
      "  warnings.warn(msg, FutureWarning)\n",
      "f:\\data\\study\\python\\pydataenv\\lib\\site-packages\\sklearn\\preprocessing\\_encoders.py:390: DeprecationWarning: The 'categorical_features' keyword is deprecated in version 0.20 and will be removed in 0.22. You can use the ColumnTransformer instead.\n",
      "  \"use the ColumnTransformer instead.\", DeprecationWarning)\n"
     ]
    },
    {
     "data": {
      "text/plain": [
       "array([[1., 0., 0., 1.],\n",
       "       [0., 1., 0., 2.],\n",
       "       [1., 0., 0., 3.],\n",
       "       [0., 1., 0., 4.],\n",
       "       [0., 0., 1., 5.]])"
      ]
     },
     "execution_count": 8,
     "metadata": {},
     "output_type": "execute_result"
    }
   ],
   "source": [
    "from sklearn.preprocessing import LabelEncoder, OneHotEncoder\n",
    "\n",
    "# DataFrameをコピー\n",
    "df_ohe = df.copy()\n",
    "\n",
    "# ラベルエンコーダのインスタンス化\n",
    "le = LabelEncoder()\n",
    "# 英語のa,b,cを1,2,3に変換\n",
    "df_ohe['B'] = le.fit_transform(df_ohe['B'])\n",
    "\n",
    "# One-hotエンコーダのインスタンス化\n",
    "ohe = OneHotEncoder(categorical_features = [1])\n",
    "# One-hotエンコーディング\n",
    "ohe.fit_transform(df_ohe).toarray()"
   ]
  },
  {
   "cell_type": "markdown",
   "metadata": {},
   "source": [
    "0.22以降ではwarningが出るので修正版"
   ]
  },
  {
   "cell_type": "code",
   "execution_count": 9,
   "metadata": {},
   "outputs": [
    {
     "name": "stdout",
     "output_type": "stream",
     "text": [
      "   A  B\n",
      "0  1  a\n",
      "1  2  b\n",
      "2  3  a\n",
      "3  4  b\n",
      "4  5  c\n"
     ]
    },
    {
     "data": {
      "text/plain": [
       "array([[1, 0, 0, 1],\n",
       "       [0, 1, 0, 2],\n",
       "       [1, 0, 0, 3],\n",
       "       [0, 1, 0, 4],\n",
       "       [0, 0, 1, 5]], dtype=int64)"
      ]
     },
     "execution_count": 9,
     "metadata": {},
     "output_type": "execute_result"
    }
   ],
   "source": [
    "from sklearn.preprocessing import LabelEncoder, OneHotEncoder\n",
    "from sklearn.compose import ColumnTransformer\n",
    "from sklearn.feature_extraction.text import CountVectorizer\n",
    "\n",
    "# DataFrameをコピー\n",
    "df_ohe = df.copy()\n",
    "print(df_ohe)\n",
    "\n",
    "# ColumnTransformerのインスタンス化\n",
    "ct = ColumnTransformer([('B_x', CountVectorizer(analyzer=lambda x: [x]), 'B')],\n",
    "    remainder = 'passthrough')\n",
    "ct.fit_transform(df_ohe)"
   ]
  },
  {
   "cell_type": "markdown",
   "metadata": {},
   "source": [
    "### 特徴量の正規化\n",
    "* 特徴量の正規化とは\n",
    "  * 特徴量の大きさを揃える処理"
   ]
  },
  {
   "cell_type": "markdown",
   "metadata": {},
   "source": [
    "#### 分散正規化\n",
    "* 分散正規化とは\n",
    "  * 特徴量の平均が0、標準偏差が1となるように特徴量を変換する処理\n",
    "  * 標準化やz変換と呼ばれることもある"
   ]
  },
  {
   "cell_type": "markdown",
   "metadata": {},
   "source": [
    "分散正規化で使用するDataFrameを作成する"
   ]
  },
  {
   "cell_type": "code",
   "execution_count": 10,
   "metadata": {},
   "outputs": [
    {
     "data": {
      "text/html": [
       "<div>\n",
       "<style scoped>\n",
       "    .dataframe tbody tr th:only-of-type {\n",
       "        vertical-align: middle;\n",
       "    }\n",
       "\n",
       "    .dataframe tbody tr th {\n",
       "        vertical-align: top;\n",
       "    }\n",
       "\n",
       "    .dataframe thead th {\n",
       "        text-align: right;\n",
       "    }\n",
       "</style>\n",
       "<table border=\"1\" class=\"dataframe\">\n",
       "  <thead>\n",
       "    <tr style=\"text-align: right;\">\n",
       "      <th></th>\n",
       "      <th>A</th>\n",
       "      <th>B</th>\n",
       "    </tr>\n",
       "  </thead>\n",
       "  <tbody>\n",
       "    <tr>\n",
       "      <th>0</th>\n",
       "      <td>1</td>\n",
       "      <td>100</td>\n",
       "    </tr>\n",
       "    <tr>\n",
       "      <th>1</th>\n",
       "      <td>2</td>\n",
       "      <td>200</td>\n",
       "    </tr>\n",
       "    <tr>\n",
       "      <th>2</th>\n",
       "      <td>3</td>\n",
       "      <td>400</td>\n",
       "    </tr>\n",
       "    <tr>\n",
       "      <th>3</th>\n",
       "      <td>4</td>\n",
       "      <td>500</td>\n",
       "    </tr>\n",
       "    <tr>\n",
       "      <th>4</th>\n",
       "      <td>5</td>\n",
       "      <td>800</td>\n",
       "    </tr>\n",
       "  </tbody>\n",
       "</table>\n",
       "</div>"
      ],
      "text/plain": [
       "   A    B\n",
       "0  1  100\n",
       "1  2  200\n",
       "2  3  400\n",
       "3  4  500\n",
       "4  5  800"
      ]
     },
     "execution_count": 10,
     "metadata": {},
     "output_type": "execute_result"
    }
   ],
   "source": [
    "import pandas as pd\n",
    "\n",
    "# DataFrameを作成する\n",
    "df = pd.DataFrame(\n",
    "    {\n",
    "        'A': [1, 2, 3, 4, 5],\n",
    "        'B': [100, 200, 400, 500, 800]\n",
    "    }\n",
    ")\n",
    "\n",
    "df"
   ]
  },
  {
   "cell_type": "markdown",
   "metadata": {},
   "source": [
    "#### sklearn.preprocessing.StandardScalerクラス\n",
    "* scikit-learnで分散正規化を行うためのクラス\n",
    "\n",
    "#### sklearn.preprocessing.StandardScaler.fitメソッド\n",
    "* 各列の平均と標準偏差を求める\n",
    "\n",
    "#### sklean.preprocessing.StandardScaler.transformメソッド\n",
    "* 分散正規化を実行した結果のNumpy配列を取得する"
   ]
  },
  {
   "cell_type": "markdown",
   "metadata": {},
   "source": [
    "scikit-learnで分散正規化を行う"
   ]
  },
  {
   "cell_type": "code",
   "execution_count": 11,
   "metadata": {},
   "outputs": [
    {
     "name": "stderr",
     "output_type": "stream",
     "text": [
      "f:\\data\\study\\python\\pydataenv\\lib\\site-packages\\sklearn\\preprocessing\\data.py:625: DataConversionWarning: Data with input dtype int64 were all converted to float64 by StandardScaler.\n",
      "  return self.partial_fit(X, y)\n",
      "f:\\data\\study\\python\\pydataenv\\lib\\site-packages\\ipykernel_launcher.py:8: DataConversionWarning: Data with input dtype int64 were all converted to float64 by StandardScaler.\n",
      "  \n"
     ]
    },
    {
     "data": {
      "text/plain": [
       "array([[-1.41421356, -1.22474487],\n",
       "       [-0.70710678, -0.81649658],\n",
       "       [ 0.        ,  0.        ],\n",
       "       [ 0.70710678,  0.40824829],\n",
       "       [ 1.41421356,  1.63299316]])"
      ]
     },
     "execution_count": 11,
     "metadata": {},
     "output_type": "execute_result"
    }
   ],
   "source": [
    "from sklearn.preprocessing import StandardScaler\n",
    "\n",
    "# 分散正規化のインスタンスを生成\n",
    "stdsc = StandardScaler()\n",
    "\n",
    "# 分散正規化を実行\n",
    "stdsc.fit(df)\n",
    "stdsc.transform(df)"
   ]
  },
  {
   "cell_type": "markdown",
   "metadata": {},
   "source": [
    "#### 最小最大正規化\n",
    "* 最小最大正規化とは\n",
    "  * 特徴量の最小値が0、最大値が1をとるように特徴量を正規化する処理"
   ]
  },
  {
   "cell_type": "markdown",
   "metadata": {},
   "source": [
    "#### sklearn.preprocessing.MinMaxScalerクラス\n",
    "* 最小最大正規化を行うためのクラス\n",
    "\n",
    "#### sklearn.preprocessing.MinMaxScaler.fitメソッド\n",
    "* 各列の最小値と最大値を求める\n",
    "\n",
    "#### sklearn.preprocessing.MinMaxScaler.transformメソッド\n",
    "* 最小最大正規化を実行した結果を取得する"
   ]
  },
  {
   "cell_type": "markdown",
   "metadata": {},
   "source": [
    "scikit-learnで最小最大正規化を行う"
   ]
  },
  {
   "cell_type": "code",
   "execution_count": 12,
   "metadata": {},
   "outputs": [
    {
     "name": "stderr",
     "output_type": "stream",
     "text": [
      "f:\\data\\study\\python\\pydataenv\\lib\\site-packages\\sklearn\\preprocessing\\data.py:323: DataConversionWarning: Data with input dtype int64 were all converted to float64 by MinMaxScaler.\n",
      "  return self.partial_fit(X, y)\n"
     ]
    },
    {
     "data": {
      "text/plain": [
       "array([[0.        , 0.        ],\n",
       "       [0.25      , 0.14285714],\n",
       "       [0.5       , 0.42857143],\n",
       "       [0.75      , 0.57142857],\n",
       "       [1.        , 1.        ]])"
      ]
     },
     "execution_count": 12,
     "metadata": {},
     "output_type": "execute_result"
    }
   ],
   "source": [
    "from sklearn.preprocessing import MinMaxScaler\n",
    "\n",
    "# 最小最大正規化のインスタンスを生成\n",
    "mmsc = MinMaxScaler()\n",
    "\n",
    "# 最小最大正規化を実行\n",
    "mmsc.fit(df)\n",
    "mmsc.transform(df)"
   ]
  },
  {
   "cell_type": "markdown",
   "metadata": {},
   "source": [
    "## 4.4.2 分類\n",
    "* 分類とは\n",
    "  * データの「クラス」を予測して分けるタスク\n",
    "  * 例：ユーザのサービスの利用履歴を元に、「退会する（可能性が高い）」、「退会しない（可能性が高い）」の2つのクラスに分類する\n",
    "* 教師あり学習の典型的なタスク"
   ]
  },
  {
   "cell_type": "markdown",
   "metadata": {},
   "source": [
    "### 分類モデル構築の流れ\n",
    "1. 手元のデータセットを学習用とテスト用に分割する\n",
    "  * 学習用：学習データセット\n",
    "  * テスト用：テストデータセット\n",
    "1. 学習データセットを用いて分類モデルを構築する（=「学習」）\n",
    "1. 構築したモデルのテストデータセットに対する予測を行い、未知のデータに対する対応能力（=「汎化能力」）を評価する"
   ]
  },
  {
   "cell_type": "markdown",
   "metadata": {},
   "source": [
    "#### 交差検証\n",
    "* データセットに関して、学習データセットとテストデータセットの分割を繰り返し、モデルの構築と評価を複数回行う方法"
   ]
  },
  {
   "cell_type": "markdown",
   "metadata": {},
   "source": [
    "#### scikit-learnの学習と予測\n",
    "* 学習：fitメソッド\n",
    "* 予測：predictメソッド"
   ]
  },
  {
   "cell_type": "markdown",
   "metadata": {},
   "source": [
    "#### 学習データセットとテストデータセットの準備"
   ]
  },
  {
   "cell_type": "code",
   "execution_count": 13,
   "metadata": {},
   "outputs": [
    {
     "name": "stdout",
     "output_type": "stream",
     "text": [
      "X:\n",
      "[[5.1 3.5 1.4 0.2]\n",
      " [4.9 3.  1.4 0.2]\n",
      " [4.7 3.2 1.3 0.2]\n",
      " [4.6 3.1 1.5 0.2]\n",
      " [5.  3.6 1.4 0.2]]\n",
      "y:\n",
      "[0 0 0 0 0]\n"
     ]
    }
   ],
   "source": [
    "from sklearn.datasets import load_iris\n",
    "\n",
    "# Irisデータセットを読み込む\n",
    "iris = load_iris()\n",
    "X, y = iris.data, iris.target\n",
    "\n",
    "# 先頭五行を表示\n",
    "print('X:')\n",
    "print(X[:5, :])\n",
    "print('y:')\n",
    "print(y[:5])"
   ]
  },
  {
   "cell_type": "markdown",
   "metadata": {},
   "source": [
    "#### sklearn.model_selection.train_test_split関数\n",
    "* 引数で渡したDataFrameを学習用とテスト用に分割する\n",
    " * 第1引数：説明変数（特徴量）を表すNumPy配列/pandasのDataFrame\n",
    " * 第2引数：目的変数を表すNumPy配列\n",
    " * test_size引数：テストデータの割合\n",
    " * random_state引数：データを分割する際に用いるシード値を固定するための整数"
   ]
  },
  {
   "cell_type": "markdown",
   "metadata": {},
   "source": [
    "Irisデータセットを学習データセットとテストデータセットに分割する"
   ]
  },
  {
   "cell_type": "code",
   "execution_count": 14,
   "metadata": {},
   "outputs": [
    {
     "name": "stdout",
     "output_type": "stream",
     "text": [
      "(105, 4)\n",
      "(45, 4)\n",
      "(105,)\n",
      "(45,)\n"
     ]
    }
   ],
   "source": [
    "from sklearn.model_selection import train_test_split\n",
    "\n",
    "# 学習データとテストデータに分割\n",
    "X_train, X_test, y_train, y_test = train_test_split(X, y, test_size = 0.3, random_state = 123)\n",
    "print(X_train.shape)\n",
    "print(X_test.shape)\n",
    "print(y_train.shape)\n",
    "print(y_test.shape)"
   ]
  },
  {
   "cell_type": "markdown",
   "metadata": {},
   "source": [
    "### サポートベクタマシン\n",
    "* サポートベクタマシンとは\n",
    "  * 分類・回帰だけでなく、外れ値検出にも使えるアルゴリズム\n",
    "  * 分類に使う場合\n",
    "   * 直線や平面などで分離できない（線形分離出来ない）データを高次元の空間に写して線形分離することにより、分類を行うアルゴリズム\n",
    "   * 実際は、データ間の近さを定量化するカーネル（高次元の空間でのデータ間の内積を計算する関数に相当する）を導入して計算している\n",
    "* 極端に絶対値の大きな特徴量に分類結果が影響を受けやすい傾向があるので、正規化を行い、それぞれの特徴量の尺度を揃えておくと良い"
   ]
  },
  {
   "cell_type": "markdown",
   "metadata": {},
   "source": [
    "一様乱数による2つのクラスに属する2次元のデータの生成"
   ]
  },
  {
   "cell_type": "code",
   "execution_count": 15,
   "metadata": {},
   "outputs": [
    {
     "data": {
      "text/plain": [
       "<Figure size 640x480 with 1 Axes>"
      ]
     },
     "metadata": {},
     "output_type": "display_data"
    }
   ],
   "source": [
    "import numpy as np\n",
    "import matplotlib.pyplot as plt\n",
    "\n",
    "np.random.seed(123)\n",
    "\n",
    "# X軸Y軸共に0から1までの一様分布から100点をサンプリング\n",
    "X0 = np.random.uniform(size = (100, 2))\n",
    "# クラス0のラベルを100個生成\n",
    "y0 = np.repeat(0, 100)\n",
    "\n",
    "# X軸Y軸ともに-1から0までの一様分布から100点をサンプリング\n",
    "X1 = np.random.uniform(-1.0, 0.0, size = (100, 2))\n",
    "# クラス1のラベルを100個生成\n",
    "y1 = np.repeat(1, 100)\n",
    "\n",
    "# 散布図にプロット\n",
    "fig, ax = plt.subplots()\n",
    "ax.scatter(X0[:, 0], X0[:, 1], marker = 'o', label = 'class 0')\n",
    "ax.scatter(X1[:, 0], X1[:, 1], marker = 'x', label = 'class 1')\n",
    "ax.set_xlabel('x')\n",
    "ax.set_ylabel('y')\n",
    "ax.legend()\n",
    "\n",
    "plt.show()"
   ]
  },
  {
   "cell_type": "markdown",
   "metadata": {},
   "source": [
    "**サポートベクタマシンを使用した学習および、決定境界、マージン、サポートベクタを可視化する関数を定義**"
   ]
  },
  {
   "cell_type": "markdown",
   "metadata": {},
   "source": [
    "#### sklearn.svm.SVCクラス\n",
    "* サポートベクタマシンによる学習を行うためのクラス\n",
    "* C引数\n",
    "  * どれだけマージンを広く/小さく設定するか\n",
    "  * 値が小さいほどマージンが広くなり、値が大きいほどマージンが狭くなる"
   ]
  },
  {
   "cell_type": "code",
   "execution_count": 16,
   "metadata": {},
   "outputs": [],
   "source": [
    "from sklearn.svm import SVC\n",
    "# 学習、及び決定境界、マージン、サポートベクタを可視化する関数\n",
    "def plot_boundary_margin_sv(X0, y0, X1, y1, kernel, C, xmin = -1, xmax = 1, ymin = -1, ymax = 1):\n",
    "    # サポートベクタマシンのインスタンス化\n",
    "    gamma = 'auto' if (kernel == 'linear') else 'scale'\n",
    "    svc = SVC(kernel = kernel, C = C, gamma = gamma)\n",
    "    # 学習\n",
    "    svc.fit(np.vstack((X0, X1)), np.hstack((y0, y1)))\n",
    "    \n",
    "    fig, ax = plt.subplots()\n",
    "    ax.scatter(X0[:, 0], X0[:, 1], marker = 'o', label = 'class 0')\n",
    "    ax.scatter(X1[:, 0], X1[:, 1], marker = 'x', label = 'class 1')\n",
    "    # 決定境界とマージンをプロット\n",
    "    xx, yy = np.meshgrid(np.linspace(xmin, xmax, 100), np.linspace(ymin, ymax, 100))\n",
    "    xy = np.vstack([xx.ravel(), yy.ravel()]).T\n",
    "    p = svc.decision_function(xy).reshape((100, 100))\n",
    "    ax.contour(xx, yy, p, colors = 'k', levels = [-1, 0, 1], alpha = 0.5, linestyles = ['--', '-', '--'])\n",
    "    # サポートベクタをプロット\n",
    "    ax.scatter(svc.support_vectors_[:, 0],\n",
    "              svc.support_vectors_[:, 1],\n",
    "              s = 250, facecolors = 'none',\n",
    "              edgecolors = 'black')\n",
    "    ax.set_xlabel('x')\n",
    "    ax.set_ylabel('y')\n",
    "    ax.legend(loc = 'best')\n",
    "    plt.show()"
   ]
  },
  {
   "cell_type": "markdown",
   "metadata": {},
   "source": [
    "**定義した関数を用いて、実際にサポートベクタマシンを使用した学習と、決定境界・マージン・サポートベクタを可視化する**"
   ]
  },
  {
   "cell_type": "code",
   "execution_count": 17,
   "metadata": {},
   "outputs": [
    {
     "data": {
      "image/png": "[encoded data removed]",
      "text/plain": [
       "<Figure size 432x288 with 1 Axes>"
      ]
     },
     "metadata": {
      "needs_background": "light"
     },
     "output_type": "display_data"
    }
   ],
   "source": [
    "# 決定境界、マージン、サポートベクタをプロット\n",
    "plot_boundary_margin_sv(X0, y0, X1, y1, kernel = 'linear', C = 1e6)"
   ]
  },
  {
   "cell_type": "markdown",
   "metadata": {},
   "source": [
    "**サポートベクタマシンのマージンを広くする（決定境界の可視化(C = 0.1)）**"
   ]
  },
  {
   "cell_type": "code",
   "execution_count": 18,
   "metadata": {},
   "outputs": [
    {
     "data": {
      "image/png": "[encoded data removed]",
      "text/plain": [
       "<Figure size 432x288 with 1 Axes>"
      ]
     },
     "metadata": {
      "needs_background": "light"
     },
     "output_type": "display_data"
    }
   ],
   "source": [
    "# 決定境界、マージン、サポートベクタをプロット\n",
    "plot_boundary_margin_sv(X0, y0, X1, y1, kernel = 'linear', C = 0.1)"
   ]
  },
  {
   "cell_type": "markdown",
   "metadata": {},
   "source": [
    "直線で分離できないデータ"
   ]
  },
  {
   "cell_type": "code",
   "execution_count": 19,
   "metadata": {},
   "outputs": [
    {
     "data": {
      "image/png": "[encoded data removed]",
      "text/plain": [
       "<Figure size 432x288 with 1 Axes>"
      ]
     },
     "metadata": {
      "needs_background": "light"
     },
     "output_type": "display_data"
    }
   ],
   "source": [
    "np.random.seed(123)\n",
    "X = np.random.random(size = (100, 2))\n",
    "y = (X[:, 1] > 2 * (X[:, 0] - 0.5) ** 2 + 0.5).astype(int)\n",
    "fig, ax = plt.subplots()\n",
    "ax.scatter(X[y == 0, 0], X[y == 0, 1], marker = 'x', label = 'class 0')\n",
    "ax.scatter(X[y == 1, 0], X[y == 1, 1], marker = 'o', label = 'class 1')\n",
    "ax.legend()\n",
    "\n",
    "plt.show()"
   ]
  },
  {
   "cell_type": "markdown",
   "metadata": {},
   "source": [
    "**カーネルとして動径規定関数を用いて２つのクラスを分離**"
   ]
  },
  {
   "cell_type": "code",
   "execution_count": 20,
   "metadata": {},
   "outputs": [
    {
     "data": {
      "image/png": "[encoded data removed]",
      "text/plain": [
       "<Figure size 432x288 with 1 Axes>"
      ]
     },
     "metadata": {
      "needs_background": "light"
     },
     "output_type": "display_data"
    }
   ],
   "source": [
    "# 決定境界、マージン、サポートベクタを可視化\n",
    "X0, X1 = X[y == 0, :], X[y == 1, :]\n",
    "y0, y1 = y[y == 0], y[y == 1]\n",
    "plot_boundary_margin_sv(X0, y0, X1, y1, kernel = 'rbf', C = 1e3, xmin = 0, ymin = 0)"
   ]
  },
  {
   "cell_type": "markdown",
   "metadata": {},
   "source": [
    "### 決定木\n",
    "* 決定木とは\n",
    "  * データを分割するルールを次々と作成していくことにより、分類を実行するアルゴリズム\n",
    "  * 機械学習の代表的な方法\n",
    "  * モデルの内容が理解しやすい\n",
    "  * 実務でも多用される"
   ]
  },
  {
   "cell_type": "markdown",
   "metadata": {},
   "source": [
    "#### 木構造\n",
    "* ノード：頂点\n",
    "  * 根ノード（root node）：木の最上部に有り、親ノードを持たないノード\n",
    "  * 葉ノード（leaf node）：木の最下部に有り、子ノードを持たないノード\n",
    "* エッジ：ノード同士を結ぶ"
   ]
  },
  {
   "cell_type": "markdown",
   "metadata": {},
   "source": [
    "#### 情報の分割\n",
    "* 情報利得\n",
    "  * データを分割することによってどれだけ得をするか\n",
    "* 決定木における得とは\n",
    "  * クラスを綺麗に分けられること\n",
    "    * どれだけクラスが混在しているかという指標が必要：不純度\n",
    "* 決定木における情報利得\n",
    "  * 親ノードでの不純度 - 子ノードでの不純度の合計\n",
    "  * 情報利得が正の場合\n",
    "    * 親ノードでの不純度 > 子ノードでの不純度の合計\n",
    "      * 親ノードを子ノードに分割したほうが良い\n",
    "  * 情報利得が負の場合\n",
    "    * 親ノードでの不純度 < 子ノードでの不純度の合計\n",
    "      * 親ノードを子ノードに分割する必要はない"
   ]
  },
  {
   "cell_type": "markdown",
   "metadata": {},
   "source": [
    "#### 不純度の指標\n",
    "* ジニ不純度\n",
    "  * 各ノードに間違ったクラスが振り分けられてしまう確率\n",
    "  * scikit-learnではデフォルトの不純度として用いられる\n",
    "* エントロピー\n",
    "* 分類誤差"
   ]
  },
  {
   "cell_type": "markdown",
   "metadata": {},
   "source": [
    "#### sklearn.tree.DecisionTreeClassdierクラス\n",
    "* scikit-learnで決定木を使用するためのクラス"
   ]
  },
  {
   "cell_type": "markdown",
   "metadata": {},
   "source": [
    "scikit-learnの決定木を用いた学習"
   ]
  },
  {
   "cell_type": "code",
   "execution_count": 21,
   "metadata": {},
   "outputs": [
    {
     "data": {
      "text/plain": [
       "DecisionTreeClassifier(class_weight=None, criterion='gini', max_depth=3,\n",
       "            max_features=None, max_leaf_nodes=None,\n",
       "            min_impurity_decrease=0.0, min_impurity_split=None,\n",
       "            min_samples_leaf=1, min_samples_split=2,\n",
       "            min_weight_fraction_leaf=0.0, presort=False, random_state=None,\n",
       "            splitter='best')"
      ]
     },
     "execution_count": 21,
     "metadata": {},
     "output_type": "execute_result"
    }
   ],
   "source": [
    "from sklearn.datasets import load_iris\n",
    "from sklearn.model_selection import train_test_split\n",
    "from sklearn.tree import DecisionTreeClassifier\n",
    "# Irisデータセットを読み込む\n",
    "iris = load_iris()\n",
    "X, y = iris.data, iris.target\n",
    "# 学習データセットとテストデータセットに分割する\n",
    "X_train, X_test, y_train, y_test = train_test_split(X, y, test_size = 0.3, random_state = 123)\n",
    "# 決定木をインスタンス化する（木の最大の深さ = 3）\n",
    "tree = DecisionTreeClassifier(max_depth = 3)\n",
    "# 学習\n",
    "tree.fit(X_train, y_train)"
   ]
  },
  {
   "cell_type": "markdown",
   "metadata": {},
   "source": [
    "決定木の描画"
   ]
  },
  {
   "cell_type": "code",
   "execution_count": 22,
   "metadata": {},
   "outputs": [
    {
     "data": {
      "text/plain": [
       "True"
      ]
     },
     "execution_count": 22,
     "metadata": {},
     "output_type": "execute_result"
    }
   ],
   "source": [
    "from pydotplus import graph_from_dot_data\n",
    "from sklearn.tree import export_graphviz\n",
    "\n",
    "# dot形式のデータを抽出\n",
    "dot_data = export_graphviz(\n",
    "    tree,\n",
    "    filled = True,\n",
    "    rounded = True,\n",
    "    class_names =[\n",
    "        'Setosa',\n",
    "        'Versicolor',\n",
    "        'Virginica'\n",
    "    ],\n",
    "    feature_names = [\n",
    "        'Sepal Length',\n",
    "        'Sepal Width',\n",
    "        'Petal Length',\n",
    "        'Petal Width'\n",
    "    ],\n",
    "    out_file = None\n",
    ")\n",
    "\n",
    "# 決定僕のプロットを出力\n",
    "graph = graph_from_dot_data(dot_data)\n",
    "graph.write_png('tree.png')"
   ]
  },
  {
   "cell_type": "markdown",
   "metadata": {},
   "source": [
    "学習済みの決定木を用いた予測を行う"
   ]
  },
  {
   "cell_type": "code",
   "execution_count": 23,
   "metadata": {},
   "outputs": [
    {
     "data": {
      "text/plain": [
       "array([1, 2, 2, 1, 0, 1, 1, 0, 0, 1, 2, 0, 1, 2, 2, 2, 0, 0, 1, 0, 0, 1,\n",
       "       0, 2, 0, 0, 0, 2, 2, 0, 2, 1, 0, 0, 1, 1, 2, 0, 0, 1, 1, 0, 2, 2,\n",
       "       2])"
      ]
     },
     "execution_count": 23,
     "metadata": {},
     "output_type": "execute_result"
    }
   ],
   "source": [
    "# 予測\n",
    "y_pred = tree.predict(X_test)\n",
    "y_pred"
   ]
  },
  {
   "cell_type": "markdown",
   "metadata": {},
   "source": [
    "### ランダムフォレスト\n",
    "* ランダムフォレストとは\n",
    "  * データのサンプル特徴量（説明変数）をランダムに選択して決定木を構築する処理を複数繰り返し、各木の推定結果の多数決や平均値により、分類・回帰を行う手法\n",
    "  * 決定木のアンサンブル（集合）となる\n",
    "  * ブートストラップデータ\n",
    "    * ランダムに選択されたサンプルと特徴量（説明変数）のデータ\n",
    "* アンサンブル学習\n",
    "  * 複数の学習器を用いた学習方法\n",
    "  * ランダムフォレストはアンサンブル学習の一種"
   ]
  },
  {
   "cell_type": "markdown",
   "metadata": {},
   "source": [
    "#### sklearn.ensamble.RandomForestClassifierクラス\n",
    "* scikit-learnでランダムフォレストを実行するためのクラス\n",
    "* n_estimators引数\n",
    "  * 値に整数を渡すと、決定木の個数となる"
   ]
  },
  {
   "cell_type": "markdown",
   "metadata": {},
   "source": [
    "scikit-learnでランダムフォレストを用いた学習と予測を行う"
   ]
  },
  {
   "cell_type": "code",
   "execution_count": 24,
   "metadata": {},
   "outputs": [
    {
     "data": {
      "text/plain": [
       "array([1, 2, 2, 1, 0, 1, 1, 0, 0, 1, 2, 0, 1, 2, 2, 2, 0, 0, 1, 0, 0, 1,\n",
       "       0, 2, 0, 0, 0, 2, 2, 0, 2, 1, 0, 0, 1, 1, 2, 0, 0, 1, 1, 0, 2, 2,\n",
       "       2])"
      ]
     },
     "execution_count": 24,
     "metadata": {},
     "output_type": "execute_result"
    }
   ],
   "source": [
    "from sklearn.ensemble import RandomForestClassifier\n",
    "\n",
    "# ランダムフォレストをインスタンス化する\n",
    "forest = RandomForestClassifier(n_estimators = 100, random_state = 123)\n",
    "\n",
    "# 学習\n",
    "forest.fit(X_train, y_train)\n",
    "\n",
    "# 予測\n",
    "y_pred = forest.predict(X_test)\n",
    "y_pred"
   ]
  },
  {
   "cell_type": "markdown",
   "metadata": {},
   "source": [
    "## 4.4.3 回帰\n",
    "* 回帰とは\n",
    "  * ある値（目的変数）を別の単一または複数の値（説明変数、機械学習では特に特徴量と呼ぶ）で説明するタスク\n",
    "* 回帰の例\n",
    "  * 生徒の数学の試験の点数を、理科の試験の点数で説明する\n",
    "    * 目的変数：数学の試験の点数\n",
    "    * 説明変数：理科の試験の点数\n",
    "  * 賃貸住宅の家賃を、物件の広さと居住地域で説明する\n",
    "    * 目的変数：家賃\n",
    "    * 説明変数：物件の広さ、居住地域"
   ]
  },
  {
   "cell_type": "markdown",
   "metadata": {},
   "source": [
    "#### 線形回帰\n",
    "* 目的変数をy、説明変数がp個あるとして、x1…xpとした時、「y = a0+a1x1+...+apxp」の数式でデータをもっともよく説明する係数「a0, a1, ... ap」を求める\n",
    "  * 単回帰\n",
    "    * 説明変数が1変数\n",
    "  * 重回帰\n",
    "    * 説明変数が2変数以上"
   ]
  },
  {
   "cell_type": "markdown",
   "metadata": {},
   "source": [
    "#### skkearn.linear_model.LinearRegressionクラス\n",
    "* scikit-learnで線形回帰を行うためのクラス"
   ]
  },
  {
   "cell_type": "markdown",
   "metadata": {},
   "source": [
    "scikit-learnで線形回帰を実行する"
   ]
  },
  {
   "cell_type": "code",
   "execution_count": 25,
   "metadata": {},
   "outputs": [
    {
     "data": {
      "text/plain": [
       "LinearRegression(copy_X=True, fit_intercept=True, n_jobs=None,\n",
       "         normalize=False)"
      ]
     },
     "execution_count": 25,
     "metadata": {},
     "output_type": "execute_result"
    }
   ],
   "source": [
    "from sklearn.linear_model import LinearRegression\n",
    "from sklearn.datasets import load_boston\n",
    "from sklearn.model_selection import train_test_split\n",
    "\n",
    "# Bostonデータセットを読み込む\n",
    "boston = load_boston()\n",
    "X, y = boston.data, boston.target\n",
    "# 学習データセットとテストデータセットに分割\n",
    "X_train, X_test, y_train, y_test = train_test_split(X, y, test_size = 0.3,random_state = 123)\n",
    "\n",
    "# 線形回帰をインスタンス化\n",
    "lr = LinearRegression()\n",
    "\n",
    "# 学習\n",
    "lr.fit(X_train, y_train)"
   ]
  },
  {
   "cell_type": "markdown",
   "metadata": {},
   "source": [
    "データセットの予測"
   ]
  },
  {
   "cell_type": "code",
   "execution_count": 26,
   "metadata": {},
   "outputs": [],
   "source": [
    "y_pred = lr.predict(X_test)"
   ]
  },
  {
   "cell_type": "markdown",
   "metadata": {},
   "source": [
    "実績値と予測値から散布図をプロットする"
   ]
  },
  {
   "cell_type": "code",
   "execution_count": 27,
   "metadata": {},
   "outputs": [
    {
     "data": {
      "image/png": "[encoded data removed]",
      "text/plain": [
       "<Figure size 432x288 with 1 Axes>"
      ]
     },
     "metadata": {
      "needs_background": "light"
     },
     "output_type": "display_data"
    }
   ],
   "source": [
    "import matplotlib.pyplot as plt\n",
    "\n",
    "# 横軸を予測値、縦軸を実績値とした散布図をプロットする\n",
    "fig, ax = plt.subplots()\n",
    "ax.scatter(y_pred, y_test)\n",
    "ax.plot((0, 50), (0, 50), linestyle = 'dashed', color = 'red')\n",
    "ax.set_xlabel('predicated value')\n",
    "ax.set_ylabel('actual value')\n",
    "\n",
    "plt.show()"
   ]
  },
  {
   "cell_type": "markdown",
   "metadata": {},
   "source": [
    "## 4.4.4 次元削減\n",
    "* 次元削減とは\n",
    "  * データが持っている情報をなるべく損ねることなく次元を削減してデータを圧縮するタスク"
   ]
  },
  {
   "cell_type": "markdown",
   "metadata": {},
   "source": [
    "### 主成分分析\n",
    "* 主成分分析(principal component analysis PCA)とは\n",
    "  * 高次元のデータに対して分散が大きくなる方向（データが散らばっている方向）を探して、次の次元と同じかそれよりも低い次元にデータを変換する手法"
   ]
  },
  {
   "cell_type": "markdown",
   "metadata": {},
   "source": [
    "#### sklearn.decomposition.PCAクラス\n",
    "* scikit-learnで主成分分析を行うためのクラス"
   ]
  },
  {
   "cell_type": "markdown",
   "metadata": {},
   "source": [
    "50個の2次元データを作成"
   ]
  },
  {
   "cell_type": "code",
   "execution_count": 28,
   "metadata": {},
   "outputs": [
    {
     "data": {
      "image/png": "[encoded data removed]",
      "text/plain": [
       "<Figure size 432x288 with 1 Axes>"
      ]
     },
     "metadata": {
      "needs_background": "light"
     },
     "output_type": "display_data"
    }
   ],
   "source": [
    "import numpy as np\n",
    "import matplotlib.pyplot as plt\n",
    "\n",
    "# シード値を固定\n",
    "np.random.seed(123)\n",
    "# 0以上1未満の一様乱数を50個生成\n",
    "X = np.random.random(size = 50)\n",
    "# Xを2倍下後に、0以上1未満の一様乱数を0.5倍して足し合わせる\n",
    "Y = 2 * X + 0.5 * np.random.rand(50)\n",
    "# 散布図をプロット\n",
    "fig, ax = plt.subplots()\n",
    "ax.scatter(X, Y)\n",
    "plt.show()"
   ]
  },
  {
   "cell_type": "markdown",
   "metadata": {},
   "source": [
    "主成分分析を実行する"
   ]
  },
  {
   "cell_type": "code",
   "execution_count": 29,
   "metadata": {},
   "outputs": [],
   "source": [
    "from sklearn.decomposition import PCA\n",
    "\n",
    "# 主成分のクラスをインスタンス化\n",
    "pca = PCA(n_components = 2)\n",
    "\n",
    "# 主成分分析を実行\n",
    "X_pca = pca.fit_transform(np.hstack((X[:, np.newaxis], Y[:, np.newaxis])))"
   ]
  },
  {
   "cell_type": "markdown",
   "metadata": {},
   "source": [
    "主成分分析の結果得られた座標を散布図にプロット"
   ]
  },
  {
   "cell_type": "code",
   "execution_count": 30,
   "metadata": {},
   "outputs": [
    {
     "data": {
      "image/png": "[encoded data removed]",
      "text/plain": [
       "<Figure size 432x288 with 1 Axes>"
      ]
     },
     "metadata": {
      "needs_background": "light"
     },
     "output_type": "display_data"
    }
   ],
   "source": [
    "fig, ax = plt.subplots()\n",
    "ax.scatter(X_pca[:, 0], X_pca[:, 1])\n",
    "ax.set_xlabel('PC1')\n",
    "ax.set_ylabel('PC2')\n",
    "ax.set_xlim(-1.1, 1.1)\n",
    "ax.set_ylim(-1.1, 1.1)\n",
    "plt.show()"
   ]
  },
  {
   "cell_type": "markdown",
   "metadata": {},
   "source": [
    "## 4.4.5 モデルの評価"
   ]
  },
  {
   "cell_type": "markdown",
   "metadata": {},
   "source": [
    "### カテゴリの分類精度\n",
    "* データのカテゴリをどの程度当てられたかを定量化する指標\n",
    "  * 適合率(precision)\n",
    "  * 再現率(recall)\n",
    "  * F値(F-Value)\n",
    "  * 正解率(accuracy)\n",
    "  * これらの指標は「混同行列」から計算する\n",
    "* 混同行列\n",
    "  * 予測と実績のクラスラベルの組み合わせを集計した表\n",
    "  * 正例\n",
    "    * 興味のあるクラスに属するデータ\n",
    "  * 負例\n",
    "    * 興味のないクラスに属するデータ\n",
    "    \n",
    "\n",
    "<div style=\"text-align:center; font-weight: bold;\">\n",
    "混同行列\n",
    "</div>\n",
    "\n",
    "|　　|　　| 実績 |　　　|\n",
    "|:---:|:---:|:---:|:---:|\n",
    "|　　|　　| 正例 | 負例 |\n",
    "| 予測 | 正例と予測 | tp<br>正例と予測して<br>実際に正例 | fp<br>正例と予測したが<br>実際は負例 |\n",
    "| 　　 | 負例と予測 | fn<br>負例と予測したが<br>実際は正例 | tn<br>負例と予測して<br>実際に負例 |"
   ]
  },
  {
   "cell_type": "markdown",
   "metadata": {},
   "source": [
    "#### 混同行列を用いたカテゴリの分類精度の指標の定義\n",
    "* 適合率\n",
    "  * 正例と予測したデータの内、実際に正例の割合を表す\n",
    "  * 適合率 = tp / (tp + fp)\n",
    "  * 適合率が高い = 正例と予測して実際に正例であったデータの割合が高い\n",
    "  * 予測するクラスをなるべく間違えないようにしたい時に重視する指標\n",
    "* 再現率\n",
    "  * 実際の正例のうち、正例と予測したものの割合を表す\n",
    "  * 再現率 = tp / (tp + fn)\n",
    "* F値\n",
    "  * 適合率と再現率の調和平均\n",
    "  * F値 = 2 / (1/適合率 + 1/再現率) = 2 * 適合率 * 再現率 / ( 適合率 + 再現率 )\n",
    "  * *一般的に適合率と再現率の関係はトレードオフの関係にある<br>F値：適合率と再現率がバランスの良い値になることを目指す時に重視する指標*\n",
    "* 正解率\n",
    "  * 正例か負例かを問わず、予測と実績が一致したデータの割合を表す\n",
    "  * 正解率 = (tp + fn) / (tp + fp + fn + tn)"
   ]
  },
  {
   "cell_type": "markdown",
   "metadata": {},
   "source": [
    "SVM（サポートベクタマシン）での学習と予測"
   ]
  },
  {
   "cell_type": "code",
   "execution_count": 31,
   "metadata": {},
   "outputs": [],
   "source": [
    "from sklearn.datasets import load_iris\n",
    "from sklearn.svm import SVC\n",
    "from sklearn.model_selection import train_test_split\n",
    "\n",
    "# Irisデータセットを読み込む\n",
    "iris = load_iris()\n",
    "X, y = iris.data[:100, :], iris.target[:100]\n",
    "# 学習データセット、テストデータセットに分割\n",
    "X_train, X_test, y_train, y_test = train_test_split(X, y, test_size = 0.3, random_state = 123)\n",
    "# SVMのインスタンス化\n",
    "svc = SVC(gamma='scale')\n",
    "# SVMで学習\n",
    "svc.fit(X_train, y_train)\n",
    "# テストデータセットの予測\n",
    "y_pred = svc.predict(X_test)"
   ]
  },
  {
   "cell_type": "markdown",
   "metadata": {},
   "source": [
    "#### sklearn.metrics.classification_report関数\n",
    "* 適合率、再現率、F値を取得する"
   ]
  },
  {
   "cell_type": "code",
   "execution_count": 32,
   "metadata": {},
   "outputs": [
    {
     "name": "stdout",
     "output_type": "stream",
     "text": [
      "              precision    recall  f1-score   support\n",
      "\n",
      "           0       1.00      1.00      1.00        15\n",
      "           1       1.00      1.00      1.00        15\n",
      "\n",
      "   micro avg       1.00      1.00      1.00        30\n",
      "   macro avg       1.00      1.00      1.00        30\n",
      "weighted avg       1.00      1.00      1.00        30\n",
      "\n"
     ]
    }
   ],
   "source": [
    "from sklearn.metrics import classification_report\n",
    "print(classification_report(y_test, y_pred))"
   ]
  },
  {
   "cell_type": "markdown",
   "metadata": {},
   "source": [
    "#### 交差検証（クロスバリデーション）\n",
    "* データセットを学習用とテスト用に分割する処理を繰り返し、モデルの構築と評価を複数回行う処理\n",
    "* k分割交差検証\n",
    "  * k = データの分割数\n",
    "  * k-1個の集合を学習用データセットとして、1個の集合をテストデータセットとして使用する処理をk回繰り返す\n",
    "  * 層化k分割交差検証(stractified k-fold cross validation)\n",
    "    * 目的変数（クラスラベル）のクラスの割合が一定となるk分割交差検証"
   ]
  },
  {
   "cell_type": "markdown",
   "metadata": {},
   "source": [
    "#### sklearn.model_selection.cross_val_score関数\n",
    "* scikit-learnで層化k分割交差検証を行う関数\n",
    "* 第1引数：学習器\n",
    "* 第2引数：X軸値\n",
    "* 第3引数：Y軸値\n",
    "* cv引数：分割数\n",
    "* scoring引数：評価指標\n",
    "  * precision：適合率\n",
    "  * recall：再現率\n",
    "  * f1-score：F値\n",
    "  * accuracy：正解率\n",
    "  "
   ]
  },
  {
   "cell_type": "markdown",
   "metadata": {},
   "source": [
    "scikit-learnで10分割の交差検証を実行する"
   ]
  },
  {
   "cell_type": "code",
   "execution_count": 33,
   "metadata": {},
   "outputs": [
    {
     "data": {
      "text/plain": [
       "array([1., 1., 1., 1., 1., 1., 1., 1., 1., 1.])"
      ]
     },
     "execution_count": 33,
     "metadata": {},
     "output_type": "execute_result"
    }
   ],
   "source": [
    "from sklearn.svm import SVC\n",
    "from sklearn.model_selection import cross_val_score\n",
    "# サポートベクタマシンをインスタンス化\n",
    "svc = SVC(gamma = 'scale')\n",
    "# 10分割の交差検証を実行\n",
    "cross_val_score(svc, X, y, cv = 10, scoring = 'precision')"
   ]
  },
  {
   "cell_type": "markdown",
   "metadata": {},
   "source": [
    "### 予測確率の正確さ\n",
    "* 各データが正例に属する確率を算出し、確率の大きい順にデータを並べた時にその順序がどの程度正確であるかを定量化する"
   ]
  },
  {
   "cell_type": "markdown",
   "metadata": {},
   "source": [
    "#### データに対する予測確率の正確さを定量化する指標\n",
    "* ROC曲線(Receiver Operating Characteristic)\n",
    "  * 基本的な考え方\n",
    "    1. 確率の高い順にデータを並べた時に、各データの確率以上のデータがすべて正例であると予測する\n",
    "    1. その時に実際に正例であったデータが全体の正例に占める割合（真陽性率）、<br>実際は負例にもかかわらず正例と予測されたデータが全体の負例に占める割合（偽陽性率）を計算\n",
    "    1. データを順にたどっていき、正例と予測する確率のしきい値を変えていた時に真陽性率と偽陽性率を求め、<br>それぞれ横軸、縦軸にプロットして曲線を描く\n",
    "* AUC(Area Under the Curve)\n",
    " * ROC曲線の下部の図形について、横軸方向を幅、縦軸方向を長さとした長方形の集まり\n",
    " * 1に近づくほど、確率が相対的に高いサンプルが正例、相対的に低いサンプルが負例となる傾向が高まる\n",
    "   * この時、確率の大きさに依って正例と負例を区別できる\n",
    " * 0.5に近づくほど、確率の大きさに依って正例と負例を区別出来ず、正例と負例がランダムに混じっっていることになる\n",
    " * AUCを用いることにより、モデル間の「良さ」を比較することが可能になる"
   ]
  },
  {
   "cell_type": "markdown",
   "metadata": {},
   "source": [
    "ROC曲線を描画する"
   ]
  },
  {
   "cell_type": "code",
   "execution_count": 34,
   "metadata": {},
   "outputs": [
    {
     "data": {
      "image/png": "[encoded data removed]",
      "text/plain": [
       "<Figure size 432x288 with 1 Axes>"
      ]
     },
     "metadata": {
      "needs_background": "light"
     },
     "output_type": "display_data"
    }
   ],
   "source": [
    "import numpy as np\n",
    "import matplotlib.pyplot as plt\n",
    "\n",
    "# 偽陽性率と真陽性率を算出\n",
    "fpr = np.array([0, 0, 0, 1, 1, 2, 3, 3, 3, 3, 4, 5, 5, 6, 7, 8, 8, 8, 9, 10, 10, 11, 12, 12, 13, 14]) / 14\n",
    "tpr = np.array([0, 1, 2, 2, 3, 3, 3, 4, 5, 6, 6, 6, 7, 7, 7, 7, 8, 9, 9, 9, 10, 10, 10, 11, 11, 11]) / 11\n",
    "# ROC曲線をプロット\n",
    "fig, ax = plt.subplots()\n",
    "ax.step(fpr, tpr)\n",
    "ax.set_xlabel('false positive rate')\n",
    "ax.set_ylabel('true positive rate')\n",
    "plt.show()"
   ]
  },
  {
   "cell_type": "markdown",
   "metadata": {},
   "source": [
    "#### sklearn.metrics.roc_curve関数\n",
    "* ROC曲線の元になる真陽性率、偽陽性率、しきい値を取得する"
   ]
  },
  {
   "cell_type": "markdown",
   "metadata": {},
   "source": [
    "scikit-learnで真陽性率、偽陽性率を取得する"
   ]
  },
  {
   "cell_type": "code",
   "execution_count": 35,
   "metadata": {},
   "outputs": [
    {
     "name": "stdout",
     "output_type": "stream",
     "text": [
      "偽陽性率： [0.         0.         0.         0.07142857 0.07142857 0.21428571\n",
      " 0.21428571 0.35714286 0.35714286 0.57142857 0.57142857 0.71428571\n",
      " 0.71428571 0.85714286 0.85714286 1.        ]\n",
      "真陽性率： [0.         0.09090909 0.18181818 0.18181818 0.27272727 0.27272727\n",
      " 0.54545455 0.54545455 0.63636364 0.63636364 0.81818182 0.81818182\n",
      " 0.90909091 0.90909091 1.         1.        ]\n"
     ]
    }
   ],
   "source": [
    "from sklearn.metrics import roc_curve\n",
    "\n",
    "# 各ユーザが退会したかどうかを表すラベル\n",
    "labels = np.array([1, 1, 0, 1, 0, 0, 1, 1, 1, 0, 0, 1, 0, 0, 0, 1, 1, 0, 0, 1, 0, 0, 1, 0, 0])\n",
    "# 各ユーザの予測退会確率\n",
    "probs = np.array([0.98, 0.95, 0.9, 0.87, 0.85,\n",
    "                 0.8, 0.75, 0.71, 0.63, 0.55,\n",
    "                 0.51, 0.47, 0.43, 0.38, 0.35,\n",
    "                 0.31, 0.28, 0.24, 0.22, 0.19,\n",
    "                 0.15, 0.12, 0.08, 0.04, 0.01])\n",
    "# 偽陽性率、真陽性率、しきい値を算出\n",
    "fpr, tpr, threshold = roc_curve(labels, probs)\n",
    "print('偽陽性率：', fpr)\n",
    "print('真陽性率：', tpr)"
   ]
  },
  {
   "cell_type": "markdown",
   "metadata": {},
   "source": [
    "算出した偽陽性率、真陽性率からROC曲線をプロットする"
   ]
  },
  {
   "cell_type": "code",
   "execution_count": 36,
   "metadata": {},
   "outputs": [
    {
     "data": {
      "image/png": "[encoded data removed]",
      "text/plain": [
       "<Figure size 432x288 with 1 Axes>"
      ]
     },
     "metadata": {
      "needs_background": "light"
     },
     "output_type": "display_data"
    }
   ],
   "source": [
    "fig, ax = plt.subplots()\n",
    "ax.step(fpr, tpr)\n",
    "ax.set_xlabel('false positive rate')\n",
    "ax.set_ylabel('true positive rate')\n",
    "\n",
    "plt.show()"
   ]
  },
  {
   "cell_type": "markdown",
   "metadata": {},
   "source": [
    "#### sklearn.metrics.roc_auc_score関数\n",
    "* scikit-learnでAUCを取得する関数"
   ]
  },
  {
   "cell_type": "markdown",
   "metadata": {},
   "source": [
    "scikit-learnでAUCを取得する"
   ]
  },
  {
   "cell_type": "code",
   "execution_count": 37,
   "metadata": {},
   "outputs": [
    {
     "data": {
      "text/plain": [
       "0.6558441558441558"
      ]
     },
     "execution_count": 37,
     "metadata": {},
     "output_type": "execute_result"
    }
   ],
   "source": [
    "from sklearn.metrics import roc_auc_score\n",
    "# AUCを算出\n",
    "roc_auc_score(labels, probs)"
   ]
  },
  {
   "cell_type": "markdown",
   "metadata": {},
   "source": [
    "## 4.4.6 ハイパーパラメータの最適化"
   ]
  },
  {
   "cell_type": "markdown",
   "metadata": {},
   "source": [
    "#### ハイパーパラメータ\n",
    "* 機械学習のアルゴリズムのパラメータ\n",
    "* 学習の時に値が決定されず、学習とは別にユーザーが値を指定する必要がある\n",
    "  * 例：決定木における木の深さ、ランダムフォレストに含まれる決定木の個数など\n",
    "\n",
    "#### ハイパーパラメータの最適化\n",
    "* グリッドサーチ(grid search)\n",
    "  * ハイパーパラメータの候補を指定して、それぞれのハイパーパラメータで学習を行いテストデータに対する予測が最も良い値を選択する\n",
    "  * 交差検証と組あせて、頻繁に使用される\n",
    "* ランダムサーチ(random search)"
   ]
  },
  {
   "cell_type": "markdown",
   "metadata": {},
   "source": [
    "#### sklearn.model_selection.GridSearchCV\n",
    "* scilit-learnでクリッドサーチを行うためのクラス\n",
    "* 第1引数：学習器\n",
    "* param_grid引数：引数名と値のリストを対応付ける辞書を指定する\n",
    "* cv引数：値に整数を渡し、分割数を指定する"
   ]
  },
  {
   "cell_type": "raw",
   "metadata": {},
   "source": [
    "scikit-learnでグリッドサーチを行う"
   ]
  },
  {
   "cell_type": "code",
   "execution_count": 39,
   "metadata": {},
   "outputs": [
    {
     "name": "stderr",
     "output_type": "stream",
     "text": [
      "f:\\data\\study\\python\\pydataenv\\lib\\site-packages\\sklearn\\model_selection\\_search.py:841: DeprecationWarning: The default of the `iid` parameter will change from True to False in version 0.22 and will be removed in 0.24. This will change numeric results when test-set sizes are unequal.\n",
      "  DeprecationWarning)\n"
     ]
    },
    {
     "data": {
      "text/plain": [
       "GridSearchCV(cv=10, error_score='raise-deprecating',\n",
       "       estimator=DecisionTreeClassifier(class_weight=None, criterion='gini', max_depth=None,\n",
       "            max_features=None, max_leaf_nodes=None,\n",
       "            min_impurity_decrease=0.0, min_impurity_split=None,\n",
       "            min_samples_leaf=1, min_samples_split=2,\n",
       "            min_weight_fraction_leaf=0.0, presort=False, random_state=None,\n",
       "            splitter='best'),\n",
       "       fit_params=None, iid='warn', n_jobs=None,\n",
       "       param_grid={'max_depth': [3, 4, 5]}, pre_dispatch='2*n_jobs',\n",
       "       refit=True, return_train_score='warn', scoring=None, verbose=0)"
      ]
     },
     "execution_count": 39,
     "metadata": {},
     "output_type": "execute_result"
    }
   ],
   "source": [
    "from sklearn.datasets import load_iris\n",
    "from sklearn.model_selection import GridSearchCV\n",
    "from sklearn.tree import DecisionTreeClassifier\n",
    "from sklearn.model_selection import train_test_split\n",
    "\n",
    "# Irisデータセットをロード\n",
    "iris = load_iris()\n",
    "X, y = iris.data, iris.target\n",
    "# 学習データとテストデータに分割\n",
    "X_train, X_test, y_train, y_test = train_test_split(X, y, test_size = 0.3, random_state = 123)\n",
    "# 決定木をインスタンス化\n",
    "clf = DecisionTreeClassifier()\n",
    "param_grid = {'max_depth': [3, 4, 5]}\n",
    "# 10分割の交差検証を実行\n",
    "cv = GridSearchCV(clf, param_grid = param_grid, cv = 10)\n",
    "cv.fit(X_train, y_train)"
   ]
  },
  {
   "cell_type": "markdown",
   "metadata": {},
   "source": [
    "#### sklearn.model_selection.GridSearchCV.best_params_\n",
    "* グリッドサーチ実行後、学習に最適なパラメータを保持する"
   ]
  },
  {
   "cell_type": "markdown",
   "metadata": {},
   "source": [
    "最適な深さを確認する"
   ]
  },
  {
   "cell_type": "code",
   "execution_count": 40,
   "metadata": {},
   "outputs": [
    {
     "data": {
      "text/plain": [
       "{'max_depth': 3}"
      ]
     },
     "execution_count": 40,
     "metadata": {},
     "output_type": "execute_result"
    }
   ],
   "source": [
    "cv.best_params_"
   ]
  },
  {
   "cell_type": "markdown",
   "metadata": {},
   "source": [
    "#### sklearn.model_selection.GridSearchCV.best_estimator_\n",
    "* グリッドサーチ実行後、学習に最適なモデルを保持する"
   ]
  },
  {
   "cell_type": "markdown",
   "metadata": {},
   "source": [
    "最適なモデルを確認する"
   ]
  },
  {
   "cell_type": "code",
   "execution_count": 41,
   "metadata": {},
   "outputs": [
    {
     "data": {
      "text/plain": [
       "DecisionTreeClassifier(class_weight=None, criterion='gini', max_depth=3,\n",
       "            max_features=None, max_leaf_nodes=None,\n",
       "            min_impurity_decrease=0.0, min_impurity_split=None,\n",
       "            min_samples_leaf=1, min_samples_split=2,\n",
       "            min_weight_fraction_leaf=0.0, presort=False, random_state=None,\n",
       "            splitter='best')"
      ]
     },
     "execution_count": 41,
     "metadata": {},
     "output_type": "execute_result"
    }
   ],
   "source": [
    "cv.best_estimator_"
   ]
  },
  {
   "cell_type": "markdown",
   "metadata": {},
   "source": [
    "#### sklearn.model_selection.GridSearchCV.predictメソッド\n",
    "* グリッドサーチ実行後、推定された最適なモデルを用いて予測を行う"
   ]
  },
  {
   "cell_type": "markdown",
   "metadata": {},
   "source": [
    "推定された最適なモデルを用いて予測を行う"
   ]
  },
  {
   "cell_type": "code",
   "execution_count": 42,
   "metadata": {},
   "outputs": [
    {
     "data": {
      "text/plain": [
       "array([1, 2, 2, 1, 0, 1, 1, 0, 0, 1, 2, 0, 1, 2, 2, 2, 0, 0, 1, 0, 0, 1,\n",
       "       0, 2, 0, 0, 0, 2, 2, 0, 2, 1, 0, 0, 1, 1, 2, 0, 0, 1, 1, 0, 2, 2,\n",
       "       2])"
      ]
     },
     "execution_count": 42,
     "metadata": {},
     "output_type": "execute_result"
    }
   ],
   "source": [
    "y_pred = cv.predict(X_test)\n",
    "y_pred"
   ]
  },
  {
   "cell_type": "markdown",
   "metadata": {},
   "source": [
    "## 4.4.7 クラスタリング"
   ]
  },
  {
   "cell_type": "markdown",
   "metadata": {},
   "source": [
    "#### クラスタリングとは\n",
    "* ある基準を設定してデータ間の類似性を計算し、データをクラスタ（グループ）ごとにまとめるタスク\n",
    "* 「教師なし学習」の典型的なタスク"
   ]
  },
  {
   "cell_type": "markdown",
   "metadata": {},
   "source": [
    "### k-means\n",
    "* 以下の手順に従ってデータをクラスタリングする手法\n",
    "  1. 各データにランダムに割り当てたクラスタのラベルを用いて、各クラスタに属するデータの中心をそのクラスタの中心とする\n",
    "  1. 各データに対して最も近いクラスタ中心のクラスタをそのデータの新たなラベルとする\n",
    "  1. 各クラスタに所属するデータの中心を新たなクラスタ中心とする\n",
    "  1. クラスタ中心が収束するまで2.と3.を繰り返す"
   ]
  },
  {
   "cell_type": "raw",
   "metadata": {},
   "source": [
    "Irisデータセットを生成"
   ]
  },
  {
   "cell_type": "code",
   "execution_count": 43,
   "metadata": {},
   "outputs": [],
   "source": [
    "from sklearn.datasets import load_iris\n",
    "# Irisデータセットを読み込む\n",
    "iris = load_iris()\n",
    "data = iris.data\n",
    "# 1,3列目を抽出\n",
    "X = data[:100, [0, 2]]"
   ]
  },
  {
   "cell_type": "markdown",
   "metadata": {},
   "source": [
    "生成したデータを散布図にプロット"
   ]
  },
  {
   "cell_type": "code",
   "execution_count": 44,
   "metadata": {},
   "outputs": [
    {
     "data": {
      "image/png": "[encoded data removed]",
      "text/plain": [
       "<Figure size 432x288 with 1 Axes>"
      ]
     },
     "metadata": {
      "needs_background": "light"
     },
     "output_type": "display_data"
    }
   ],
   "source": [
    "import matplotlib.pyplot as plt\n",
    "# 散布図を描画\n",
    "fig, ax = plt.subplots()\n",
    "ax.scatter(X[:, 0], X[:, 1])\n",
    "ax.set_xlabel('Sepal Width')\n",
    "ax.set_ylabel('Petal Width')\n",
    "plt.show()"
   ]
  },
  {
   "cell_type": "markdown",
   "metadata": {},
   "source": [
    "#### sklearn.cluster.KMeansクラス\n",
    "* scikit-learnでk-meansを用いたクラスタリングを行うクラス\n",
    "* n_clustersパラメータ\n",
    "  * 値に数値を取り、クラスタ数を指定する\n",
    "* initパラメータ\n",
    "  * 値に文字列を取り、初期値の与え方を指定する\n",
    "    * random：初期値を乱数でランダムに生成\n",
    "    * k-means++：k-means++法を実行し、初期のクラスタ中心が離れた位置に配置される\n",
    "* n_initパラメータ\n",
    "  * 値に数値を取り、k-meansの実行回数を指定する\n",
    "* max_iterパラメータ\n",
    "  * 値に数値を取り、k-meansで反復する最大回数を指定する\n",
    "* tolパラメータ\n",
    "  * 値にfloatを取り、k-meansの収束を判定する許容誤差を指定する\n",
    "* random_stateパラメータ\n",
    "  * 値に数値を取り、乱数のシードを固定するための数値を指定する\n",
    "\n",
    "#### sklearn.cluster.KMeans.fit_predictメソッド\n",
    "* 学習と予測を一度に行う"
   ]
  },
  {
   "cell_type": "markdown",
   "metadata": {},
   "source": [
    "scikit-learnでk-meansによるクラスタリングを実行する"
   ]
  },
  {
   "cell_type": "code",
   "execution_count": 46,
   "metadata": {},
   "outputs": [],
   "source": [
    "from sklearn.cluster import KMeans\n",
    "# クラスタ数を３とするKMeansのインスタンスを生成\n",
    "km = KMeans(n_clusters = 3, init = 'random', n_init = 10, random_state = 123)\n",
    "# KMeansを実行\n",
    "y_km = km.fit_predict(X)"
   ]
  },
  {
   "cell_type": "markdown",
   "metadata": {},
   "source": [
    "k-meansによるクラスタリングの結果を散布図で描画する"
   ]
  },
  {
   "cell_type": "code",
   "execution_count": 48,
   "metadata": {},
   "outputs": [
    {
     "data": {
      "image/png": "[encoded data removed]",
      "text/plain": [
       "<Figure size 432x288 with 1 Axes>"
      ]
     },
     "metadata": {
      "needs_background": "light"
     },
     "output_type": "display_data"
    }
   ],
   "source": [
    "import numpy as np\n",
    "fig, ax = plt.subplots()\n",
    "# 散布図（クラスタ１）\n",
    "ax.scatter(X[y_km == 0, 0], X[y_km == 0, 1], s = 50, edgecolor = 'black', marker = 's', label = 'cluster 1')\n",
    "# クラスタ中心（クラスタ１）\n",
    "ax.plot(np.mean(X[y_km == 0, 0]), np.mean(X[y_km == 0, 1]), marker = 'x', markersize = 10, color = 'red')\n",
    "\n",
    "# 散布図（クラスタ２）\n",
    "ax.scatter(X[y_km == 1, 0], X[y_km == 1, 1], s = 50, edgecolor = 'black', marker = 'o', label = 'cluster 2')\n",
    "# クラスタ中心（クラスタ２）\n",
    "ax.plot(np.mean(X[y_km == 1, 0]), np.mean(X[y_km == 1, 1]), marker = 'x', markersize = 10, color = 'red')\n",
    "\n",
    "# 散布図（クラスタ３）\n",
    "ax.scatter(X[y_km == 2, 0], X[y_km == 2, 1], s = 50, edgecolor = 'black', marker = 'v', label = 'cluster 3')\n",
    "# クラスタ中心（クラスタ３）\n",
    "ax.plot(np.mean(X[y_km == 2, 0]), np.mean(X[y_km == 2, 1]), marker = 'x', markersize = 10, color = 'red')\n",
    "\n",
    "ax.set_xlabel('Sepal Width')\n",
    "ax.set_ylabel('Petal Width')\n",
    "ax.legend()\n",
    "\n",
    "plt.show()"
   ]
  },
  {
   "cell_type": "markdown",
   "metadata": {},
   "source": [
    "### 階層的クラスタリング\n",
    "* 階層的クラスタリングは大きく下記に分かれる\n",
    "  * 凝集型\n",
    "    - 地味にコツコツとデータを集めていくアプローチ\n",
    "      1. 似ているデータをまとめて小さなクラスタを作る\n",
    "      1. 上記で作成したクラスタと似ているデータをさらにまとめる\n",
    "      1. 最終的に1つのクラスタにまとめられるまで繰り返す\n",
    "  * 分割型\n",
    "    - 最初にすべてのデータが1つのクラスタに所属していると考え、順次クラスタを分割していくアプローチ"
   ]
  },
  {
   "cell_type": "markdown",
   "metadata": {},
   "source": [
    "#### sklearn.cluster.AgglomerativeClusteingクラス\n",
    "* scikit-learnで凝集型クラスタリングを行うためのクラス\n",
    "* n_slustersパラメータ\n",
    "  * 値に数値をとり、クラスタ数を指定する\n",
    "- affinityパラメータ\n",
    "  - 値に文字列をとり、データ間の距離の決定方法を指定する\n",
    "    - euclidean：ユークリッド距離\n",
    "- linkageパラメータ\n",
    "  - 値に文字列をとり、クラスタリング方法を指定する\n",
    "    - complete：最長距離法"
   ]
  },
  {
   "cell_type": "markdown",
   "metadata": {},
   "source": [
    "scikit-learnで凝集的クラスタリングを実行する"
   ]
  },
  {
   "cell_type": "code",
   "execution_count": 49,
   "metadata": {},
   "outputs": [
    {
     "data": {
      "text/plain": [
       "array([1, 1, 1, 1, 1, 1, 1, 1, 1, 1, 1, 1, 1, 1, 1, 1, 1, 1, 1, 1, 1, 1,\n",
       "       1, 1, 1, 1, 1, 1, 1, 1, 1, 1, 1, 1, 1, 1, 1, 1, 1, 1, 1, 1, 1, 1,\n",
       "       1, 1, 1, 1, 1, 1, 2, 2, 2, 0, 2, 0, 2, 0, 2, 0, 0, 0, 0, 2, 0, 2,\n",
       "       0, 0, 2, 0, 2, 0, 2, 2, 2, 2, 2, 2, 2, 0, 0, 0, 0, 2, 0, 2, 2, 2,\n",
       "       0, 0, 0, 2, 0, 0, 0, 0, 0, 2, 0, 0], dtype=int64)"
      ]
     },
     "execution_count": 49,
     "metadata": {},
     "output_type": "execute_result"
    }
   ],
   "source": [
    "from sklearn.cluster import AgglomerativeClustering\n",
    "\n",
    "# 凝集型の階層的クラスタリングのインスタンスを生成\n",
    "ac = AgglomerativeClustering(n_clusters = 3, affinity = 'euclidean', linkage = 'complete')\n",
    "# クラスタリングを実行し、各クラスのクラスタ番号を取得\n",
    "labels = ac.fit_predict(X)\n",
    "labels"
   ]
  },
  {
   "cell_type": "markdown",
   "metadata": {},
   "source": [
    "#### scipy.cluster.hierarchy.dendrogram関数\n",
    "* 樹形図をプロットする"
   ]
  },
  {
   "cell_type": "markdown",
   "metadata": {},
   "source": [
    "凝集的クラスタリングの実行結果を樹形図にプロットする"
   ]
  },
  {
   "cell_type": "code",
   "execution_count": 53,
   "metadata": {},
   "outputs": [
    {
     "data": {
      "image/png": "[encoded data removed]",
      "text/plain": [
       "<Figure size 4500x900 with 1 Axes>"
      ]
     },
     "metadata": {
      "needs_background": "light"
     },
     "output_type": "display_data"
    }
   ],
   "source": [
    "import numpy as np\n",
    "from scipy.cluster.hierarchy import dendrogram\n",
    "\n",
    "# 子クラスタとの関係を抽出\n",
    "children = ac.children_\n",
    "# クラスタ間の距離を抽出\n",
    "distance = np.arange(children.shape[0])\n",
    "# 各データの観測番号\n",
    "no_of_observations = np.arange(2, children.shape[0] + 2)\n",
    "# 子クラスタ、クラスタ間の距離、観測番号を列方向に結合\n",
    "linkage_matrix = np.hstack((children, distance[:, np.newaxis], no_of_observations[:, np.newaxis])).astype(float)\n",
    "# 樹形図をプロット\n",
    "fig, ax = plt.subplots(figsize = (15, 3), dpi = 300)\n",
    "dendrogram(linkage_matrix, labels = np.arange(100), leaf_font_size = 8, color_threshold = np.inf)\n",
    "plt.show()"
   ]
  }
 ],
 "metadata": {
  "kernelspec": {
   "display_name": "Python 3",
   "language": "python",
   "name": "python3"
  },
  "language_info": {
   "codemirror_mode": {
    "name": "ipython",
    "version": 3
   },
   "file_extension": ".py",
   "mimetype": "text/x-python",
   "name": "python",
   "nbconvert_exporter": "python",
   "pygments_lexer": "ipython3",
   "version": "3.7.2"
  }
 },
 "nbformat": 4,
 "nbformat_minor": 2
}
